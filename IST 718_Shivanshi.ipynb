{
 "cells": [
  {
   "cell_type": "code",
   "execution_count": 2,
   "metadata": {},
   "outputs": [],
   "source": [
    "import pandas as pd\n",
    "import os\n",
    "\n",
    "from pyspark.sql import SparkSession\n",
    "import numpy as np\n",
    "\n",
    "spark = SparkSession.builder.getOrCreate()\n",
    "sc = spark.sparkContext\n",
    "\n",
    "import pyspark\n",
    "from pyspark.ml import feature, regression, Pipeline\n",
    "from pyspark.sql import functions as fn, Row\n",
    "from pyspark import sql\n",
    "\n",
    "import matplotlib.pyplot as plt\n",
    "import pandas as pd\n",
    "\n",
    "spark = SparkSession.builder.getOrCreate()\n",
    "sc = spark.sparkContext\n",
    "\n",
    "from datetime import datetime\n",
    "from pyspark.sql.functions import col,udf\n",
    "from pyspark.sql.types import DateType\n",
    "from pyspark.sql import SQLContext\n",
    "sqlContext = SQLContext(sc)"
   ]
  },
  {
   "cell_type": "code",
   "execution_count": 4,
   "metadata": {
    "collapsed": true
   },
   "outputs": [],
   "source": [
    "import pandas as pd\n",
    "fulldata=pd.read_csv(\"C:/Users/SHIVANSHI/IST718 Dropbox/IST 718 Project/Taxi Data/2015-01_100k.csv\")\n",
    "weatherdata = pd.read_excel(\"C:/Users/SHIVANSHI/IST718 Dropbox/IST 718 Project/Weather Data/2015_weather.xlsx\")\n",
    "holidaysdata = pd.read_excel(\"C:/Users/SHIVANSHI/IST718 Dropbox/IST 718 Project/Holiday Data/holidays.xlsx\")\n"
   ]
  },
  {
   "cell_type": "code",
   "execution_count": 20,
   "metadata": {},
   "outputs": [
    {
     "data": {
      "text/html": [
       "<div>\n",
       "<table border=\"1\" class=\"dataframe\">\n",
       "  <thead>\n",
       "    <tr style=\"text-align: right;\">\n",
       "      <th></th>\n",
       "      <th>VendorID</th>\n",
       "      <th>pickup_datetime</th>\n",
       "      <th>dropoff_datetime</th>\n",
       "      <th>passenger_count</th>\n",
       "      <th>trip_distance</th>\n",
       "      <th>pickup_longitude</th>\n",
       "      <th>pickup_latitude</th>\n",
       "      <th>RateCodeID</th>\n",
       "      <th>store_and_fwd_flag</th>\n",
       "      <th>dropoff_longitude</th>\n",
       "      <th>...</th>\n",
       "      <th>tolls_amount</th>\n",
       "      <th>improvement_surcharge</th>\n",
       "      <th>total_amount</th>\n",
       "      <th>pickup_zip</th>\n",
       "      <th>pickup_borough</th>\n",
       "      <th>pickup_neighborhood</th>\n",
       "      <th>dropoff_zip</th>\n",
       "      <th>dropoff_borough</th>\n",
       "      <th>dropoff_neighborhood</th>\n",
       "      <th>pickup_date</th>\n",
       "    </tr>\n",
       "  </thead>\n",
       "  <tbody>\n",
       "    <tr>\n",
       "      <th>0</th>\n",
       "      <td>2</td>\n",
       "      <td>2015-01-06 11:39:29</td>\n",
       "      <td>2015-01-06 11:49:15</td>\n",
       "      <td>1</td>\n",
       "      <td>1.78</td>\n",
       "      <td>-73.999619</td>\n",
       "      <td>40.743599</td>\n",
       "      <td>1</td>\n",
       "      <td>N</td>\n",
       "      <td>-73.992203</td>\n",
       "      <td>...</td>\n",
       "      <td>0.0</td>\n",
       "      <td>0.3</td>\n",
       "      <td>9.80</td>\n",
       "      <td>10011</td>\n",
       "      <td>Manhattan</td>\n",
       "      <td>Chelsea and Clinton</td>\n",
       "      <td>10036</td>\n",
       "      <td>Manhattan</td>\n",
       "      <td>Chelsea and Clinton</td>\n",
       "      <td>2015-01-06</td>\n",
       "    </tr>\n",
       "    <tr>\n",
       "      <th>1</th>\n",
       "      <td>1</td>\n",
       "      <td>2015-01-13 09:18:29</td>\n",
       "      <td>2015-01-13 09:23:40</td>\n",
       "      <td>1</td>\n",
       "      <td>2.10</td>\n",
       "      <td>-73.981956</td>\n",
       "      <td>40.778290</td>\n",
       "      <td>1</td>\n",
       "      <td>N</td>\n",
       "      <td>-73.962173</td>\n",
       "      <td>...</td>\n",
       "      <td>0.0</td>\n",
       "      <td>0.3</td>\n",
       "      <td>10.75</td>\n",
       "      <td>10023</td>\n",
       "      <td>Manhattan</td>\n",
       "      <td>Upper West Side</td>\n",
       "      <td>10024</td>\n",
       "      <td>Manhattan</td>\n",
       "      <td>Upper West Side</td>\n",
       "      <td>2015-01-13</td>\n",
       "    </tr>\n",
       "    <tr>\n",
       "      <th>2</th>\n",
       "      <td>2</td>\n",
       "      <td>2015-01-16 07:15:44</td>\n",
       "      <td>2015-01-16 07:26:42</td>\n",
       "      <td>1</td>\n",
       "      <td>2.33</td>\n",
       "      <td>-73.991188</td>\n",
       "      <td>40.742226</td>\n",
       "      <td>1</td>\n",
       "      <td>N</td>\n",
       "      <td>-73.981613</td>\n",
       "      <td>...</td>\n",
       "      <td>0.0</td>\n",
       "      <td>0.3</td>\n",
       "      <td>11.80</td>\n",
       "      <td>10010</td>\n",
       "      <td>Manhattan</td>\n",
       "      <td>Gramercy Park and Murray Hill</td>\n",
       "      <td>10019</td>\n",
       "      <td>Manhattan</td>\n",
       "      <td>Chelsea and Clinton</td>\n",
       "      <td>2015-01-16</td>\n",
       "    </tr>\n",
       "    <tr>\n",
       "      <th>3</th>\n",
       "      <td>1</td>\n",
       "      <td>2015-01-23 11:56:05</td>\n",
       "      <td>2015-01-23 12:13:20</td>\n",
       "      <td>1</td>\n",
       "      <td>2.10</td>\n",
       "      <td>-73.959297</td>\n",
       "      <td>40.763336</td>\n",
       "      <td>1</td>\n",
       "      <td>N</td>\n",
       "      <td>-73.979996</td>\n",
       "      <td>...</td>\n",
       "      <td>0.0</td>\n",
       "      <td>0.3</td>\n",
       "      <td>13.30</td>\n",
       "      <td>10065</td>\n",
       "      <td>Manhattan</td>\n",
       "      <td>Upper East Side</td>\n",
       "      <td>10023</td>\n",
       "      <td>Manhattan</td>\n",
       "      <td>Upper West Side</td>\n",
       "      <td>2015-01-23</td>\n",
       "    </tr>\n",
       "    <tr>\n",
       "      <th>4</th>\n",
       "      <td>1</td>\n",
       "      <td>2015-01-24 10:11:48</td>\n",
       "      <td>2015-01-24 10:18:32</td>\n",
       "      <td>2</td>\n",
       "      <td>0.90</td>\n",
       "      <td>-73.971832</td>\n",
       "      <td>40.764751</td>\n",
       "      <td>1</td>\n",
       "      <td>N</td>\n",
       "      <td>-73.984047</td>\n",
       "      <td>...</td>\n",
       "      <td>0.0</td>\n",
       "      <td>0.3</td>\n",
       "      <td>7.30</td>\n",
       "      <td>10065</td>\n",
       "      <td>Manhattan</td>\n",
       "      <td>Upper East Side</td>\n",
       "      <td>10019</td>\n",
       "      <td>Manhattan</td>\n",
       "      <td>Chelsea and Clinton</td>\n",
       "      <td>2015-01-24</td>\n",
       "    </tr>\n",
       "  </tbody>\n",
       "</table>\n",
       "<p>5 rows × 26 columns</p>\n",
       "</div>"
      ],
      "text/plain": [
       "   VendorID      pickup_datetime     dropoff_datetime  passenger_count  \\\n",
       "0         2  2015-01-06 11:39:29  2015-01-06 11:49:15                1   \n",
       "1         1  2015-01-13 09:18:29  2015-01-13 09:23:40                1   \n",
       "2         2  2015-01-16 07:15:44  2015-01-16 07:26:42                1   \n",
       "3         1  2015-01-23 11:56:05  2015-01-23 12:13:20                1   \n",
       "4         1  2015-01-24 10:11:48  2015-01-24 10:18:32                2   \n",
       "\n",
       "   trip_distance  pickup_longitude  pickup_latitude  RateCodeID  \\\n",
       "0           1.78        -73.999619        40.743599           1   \n",
       "1           2.10        -73.981956        40.778290           1   \n",
       "2           2.33        -73.991188        40.742226           1   \n",
       "3           2.10        -73.959297        40.763336           1   \n",
       "4           0.90        -73.971832        40.764751           1   \n",
       "\n",
       "  store_and_fwd_flag  dropoff_longitude     ...       tolls_amount  \\\n",
       "0                  N         -73.992203     ...                0.0   \n",
       "1                  N         -73.962173     ...                0.0   \n",
       "2                  N         -73.981613     ...                0.0   \n",
       "3                  N         -73.979996     ...                0.0   \n",
       "4                  N         -73.984047     ...                0.0   \n",
       "\n",
       "   improvement_surcharge  total_amount  pickup_zip  pickup_borough  \\\n",
       "0                    0.3          9.80       10011       Manhattan   \n",
       "1                    0.3         10.75       10023       Manhattan   \n",
       "2                    0.3         11.80       10010       Manhattan   \n",
       "3                    0.3         13.30       10065       Manhattan   \n",
       "4                    0.3          7.30       10065       Manhattan   \n",
       "\n",
       "             pickup_neighborhood  dropoff_zip  dropoff_borough  \\\n",
       "0            Chelsea and Clinton        10036        Manhattan   \n",
       "1                Upper West Side        10024        Manhattan   \n",
       "2  Gramercy Park and Murray Hill        10019        Manhattan   \n",
       "3                Upper East Side        10023        Manhattan   \n",
       "4                Upper East Side        10019        Manhattan   \n",
       "\n",
       "   dropoff_neighborhood  pickup_date  \n",
       "0   Chelsea and Clinton   2015-01-06  \n",
       "1       Upper West Side   2015-01-13  \n",
       "2   Chelsea and Clinton   2015-01-16  \n",
       "3       Upper West Side   2015-01-23  \n",
       "4   Chelsea and Clinton   2015-01-24  \n",
       "\n",
       "[5 rows x 26 columns]"
      ]
     },
     "execution_count": 20,
     "metadata": {},
     "output_type": "execute_result"
    }
   ],
   "source": [
    "\n",
    "datefrompickup=pd.to_datetime(fulldata['pickup_datetime']).apply(lambda x: x.date())\n",
    "datefrompickup.head()\n",
    "fulldata['pickup_date']=datefrompickup\n",
    "fulldata.head()\n"
   ]
  },
  {
   "cell_type": "code",
   "execution_count": 25,
   "metadata": {},
   "outputs": [
    {
     "data": {
      "text/html": [
       "<div>\n",
       "<table border=\"1\" class=\"dataframe\">\n",
       "  <thead>\n",
       "    <tr style=\"text-align: right;\">\n",
       "      <th></th>\n",
       "      <th>VendorID</th>\n",
       "      <th>pickup_datetime</th>\n",
       "      <th>dropoff_datetime</th>\n",
       "      <th>passenger_count</th>\n",
       "      <th>trip_distance</th>\n",
       "      <th>pickup_longitude</th>\n",
       "      <th>pickup_latitude</th>\n",
       "      <th>RateCodeID</th>\n",
       "      <th>store_and_fwd_flag</th>\n",
       "      <th>dropoff_longitude</th>\n",
       "      <th>...</th>\n",
       "      <th>pickup_neighborhood</th>\n",
       "      <th>dropoff_zip</th>\n",
       "      <th>dropoff_borough</th>\n",
       "      <th>dropoff_neighborhood</th>\n",
       "      <th>pickup_date_fulldata</th>\n",
       "      <th>pickup_date_weatherdata</th>\n",
       "      <th>avg_temp_C</th>\n",
       "      <th>Rain</th>\n",
       "      <th>Fog</th>\n",
       "      <th>Snow</th>\n",
       "    </tr>\n",
       "  </thead>\n",
       "  <tbody>\n",
       "    <tr>\n",
       "      <th>0</th>\n",
       "      <td>2</td>\n",
       "      <td>2015-01-06 11:39:29</td>\n",
       "      <td>2015-01-06 11:49:15</td>\n",
       "      <td>1</td>\n",
       "      <td>1.78</td>\n",
       "      <td>-73.999619</td>\n",
       "      <td>40.743599</td>\n",
       "      <td>1</td>\n",
       "      <td>N</td>\n",
       "      <td>-73.992203</td>\n",
       "      <td>...</td>\n",
       "      <td>Chelsea and Clinton</td>\n",
       "      <td>10036</td>\n",
       "      <td>Manhattan</td>\n",
       "      <td>Chelsea and Clinton</td>\n",
       "      <td>2015-01-06</td>\n",
       "      <td>2015-01-01</td>\n",
       "      <td>1.0</td>\n",
       "      <td>NaN</td>\n",
       "      <td>NaN</td>\n",
       "      <td>NaN</td>\n",
       "    </tr>\n",
       "    <tr>\n",
       "      <th>1</th>\n",
       "      <td>1</td>\n",
       "      <td>2015-01-13 09:18:29</td>\n",
       "      <td>2015-01-13 09:23:40</td>\n",
       "      <td>1</td>\n",
       "      <td>2.10</td>\n",
       "      <td>-73.981956</td>\n",
       "      <td>40.778290</td>\n",
       "      <td>1</td>\n",
       "      <td>N</td>\n",
       "      <td>-73.962173</td>\n",
       "      <td>...</td>\n",
       "      <td>Upper West Side</td>\n",
       "      <td>10024</td>\n",
       "      <td>Manhattan</td>\n",
       "      <td>Upper West Side</td>\n",
       "      <td>2015-01-13</td>\n",
       "      <td>2015-01-02</td>\n",
       "      <td>4.0</td>\n",
       "      <td>NaN</td>\n",
       "      <td>NaN</td>\n",
       "      <td>NaN</td>\n",
       "    </tr>\n",
       "    <tr>\n",
       "      <th>2</th>\n",
       "      <td>2</td>\n",
       "      <td>2015-01-16 07:15:44</td>\n",
       "      <td>2015-01-16 07:26:42</td>\n",
       "      <td>1</td>\n",
       "      <td>2.33</td>\n",
       "      <td>-73.991188</td>\n",
       "      <td>40.742226</td>\n",
       "      <td>1</td>\n",
       "      <td>N</td>\n",
       "      <td>-73.981613</td>\n",
       "      <td>...</td>\n",
       "      <td>Gramercy Park and Murray Hill</td>\n",
       "      <td>10019</td>\n",
       "      <td>Manhattan</td>\n",
       "      <td>Chelsea and Clinton</td>\n",
       "      <td>2015-01-16</td>\n",
       "      <td>2015-01-03</td>\n",
       "      <td>3.0</td>\n",
       "      <td>1.0</td>\n",
       "      <td>NaN</td>\n",
       "      <td>1.0</td>\n",
       "    </tr>\n",
       "    <tr>\n",
       "      <th>3</th>\n",
       "      <td>1</td>\n",
       "      <td>2015-01-23 11:56:05</td>\n",
       "      <td>2015-01-23 12:13:20</td>\n",
       "      <td>1</td>\n",
       "      <td>2.10</td>\n",
       "      <td>-73.959297</td>\n",
       "      <td>40.763336</td>\n",
       "      <td>1</td>\n",
       "      <td>N</td>\n",
       "      <td>-73.979996</td>\n",
       "      <td>...</td>\n",
       "      <td>Upper East Side</td>\n",
       "      <td>10023</td>\n",
       "      <td>Manhattan</td>\n",
       "      <td>Upper West Side</td>\n",
       "      <td>2015-01-23</td>\n",
       "      <td>2015-01-04</td>\n",
       "      <td>9.0</td>\n",
       "      <td>1.0</td>\n",
       "      <td>NaN</td>\n",
       "      <td>NaN</td>\n",
       "    </tr>\n",
       "    <tr>\n",
       "      <th>4</th>\n",
       "      <td>1</td>\n",
       "      <td>2015-01-24 10:11:48</td>\n",
       "      <td>2015-01-24 10:18:32</td>\n",
       "      <td>2</td>\n",
       "      <td>0.90</td>\n",
       "      <td>-73.971832</td>\n",
       "      <td>40.764751</td>\n",
       "      <td>1</td>\n",
       "      <td>N</td>\n",
       "      <td>-73.984047</td>\n",
       "      <td>...</td>\n",
       "      <td>Upper East Side</td>\n",
       "      <td>10019</td>\n",
       "      <td>Manhattan</td>\n",
       "      <td>Chelsea and Clinton</td>\n",
       "      <td>2015-01-24</td>\n",
       "      <td>2015-01-05</td>\n",
       "      <td>2.0</td>\n",
       "      <td>NaN</td>\n",
       "      <td>NaN</td>\n",
       "      <td>NaN</td>\n",
       "    </tr>\n",
       "  </tbody>\n",
       "</table>\n",
       "<p>5 rows × 31 columns</p>\n",
       "</div>"
      ],
      "text/plain": [
       "   VendorID      pickup_datetime     dropoff_datetime  passenger_count  \\\n",
       "0         2  2015-01-06 11:39:29  2015-01-06 11:49:15                1   \n",
       "1         1  2015-01-13 09:18:29  2015-01-13 09:23:40                1   \n",
       "2         2  2015-01-16 07:15:44  2015-01-16 07:26:42                1   \n",
       "3         1  2015-01-23 11:56:05  2015-01-23 12:13:20                1   \n",
       "4         1  2015-01-24 10:11:48  2015-01-24 10:18:32                2   \n",
       "\n",
       "   trip_distance  pickup_longitude  pickup_latitude  RateCodeID  \\\n",
       "0           1.78        -73.999619        40.743599           1   \n",
       "1           2.10        -73.981956        40.778290           1   \n",
       "2           2.33        -73.991188        40.742226           1   \n",
       "3           2.10        -73.959297        40.763336           1   \n",
       "4           0.90        -73.971832        40.764751           1   \n",
       "\n",
       "  store_and_fwd_flag  dropoff_longitude  ...             pickup_neighborhood  \\\n",
       "0                  N         -73.992203  ...             Chelsea and Clinton   \n",
       "1                  N         -73.962173  ...                 Upper West Side   \n",
       "2                  N         -73.981613  ...   Gramercy Park and Murray Hill   \n",
       "3                  N         -73.979996  ...                 Upper East Side   \n",
       "4                  N         -73.984047  ...                 Upper East Side   \n",
       "\n",
       "   dropoff_zip  dropoff_borough  dropoff_neighborhood  pickup_date_fulldata  \\\n",
       "0        10036        Manhattan   Chelsea and Clinton            2015-01-06   \n",
       "1        10024        Manhattan       Upper West Side            2015-01-13   \n",
       "2        10019        Manhattan   Chelsea and Clinton            2015-01-16   \n",
       "3        10023        Manhattan       Upper West Side            2015-01-23   \n",
       "4        10019        Manhattan   Chelsea and Clinton            2015-01-24   \n",
       "\n",
       "   pickup_date_weatherdata  avg_temp_C  Rain  Fog  Snow  \n",
       "0               2015-01-01         1.0   NaN  NaN   NaN  \n",
       "1               2015-01-02         4.0   NaN  NaN   NaN  \n",
       "2               2015-01-03         3.0   1.0  NaN   1.0  \n",
       "3               2015-01-04         9.0   1.0  NaN   NaN  \n",
       "4               2015-01-05         2.0   NaN  NaN   NaN  \n",
       "\n",
       "[5 rows x 31 columns]"
      ]
     },
     "execution_count": 25,
     "metadata": {},
     "output_type": "execute_result"
    }
   ],
   "source": [
    "mergeddata=fulldata.join(weatherdata,lsuffix='_fulldata', rsuffix='_weatherdata')\n",
    "mergeddata.head()\n"
   ]
  },
  {
   "cell_type": "code",
   "execution_count": 26,
   "metadata": {},
   "outputs": [
    {
     "data": {
      "text/html": [
       "<div>\n",
       "<table border=\"1\" class=\"dataframe\">\n",
       "  <thead>\n",
       "    <tr style=\"text-align: right;\">\n",
       "      <th></th>\n",
       "      <th>VendorID</th>\n",
       "      <th>pickup_datetime</th>\n",
       "      <th>dropoff_datetime</th>\n",
       "      <th>passenger_count</th>\n",
       "      <th>trip_distance</th>\n",
       "      <th>pickup_longitude</th>\n",
       "      <th>pickup_latitude</th>\n",
       "      <th>RateCodeID</th>\n",
       "      <th>store_and_fwd_flag</th>\n",
       "      <th>dropoff_longitude</th>\n",
       "      <th>...</th>\n",
       "      <th>pickup_borough</th>\n",
       "      <th>pickup_neighborhood</th>\n",
       "      <th>dropoff_zip</th>\n",
       "      <th>dropoff_borough</th>\n",
       "      <th>dropoff_neighborhood</th>\n",
       "      <th>pickup_date</th>\n",
       "      <th>avg_temp_C</th>\n",
       "      <th>Rain</th>\n",
       "      <th>Fog</th>\n",
       "      <th>Snow</th>\n",
       "    </tr>\n",
       "  </thead>\n",
       "  <tbody>\n",
       "  </tbody>\n",
       "</table>\n",
       "<p>0 rows × 30 columns</p>\n",
       "</div>"
      ],
      "text/plain": [
       "Empty DataFrame\n",
       "Columns: [VendorID, pickup_datetime, dropoff_datetime, passenger_count, trip_distance, pickup_longitude, pickup_latitude, RateCodeID, store_and_fwd_flag, dropoff_longitude, dropoff_latitude, payment_type, fare_amount, extra, mta_tax, tip_amount, tolls_amount, improvement_surcharge, total_amount, pickup_zip, pickup_borough, pickup_neighborhood, dropoff_zip, dropoff_borough, dropoff_neighborhood, pickup_date, avg_temp_C, Rain, Fog, Snow]\n",
       "Index: []\n",
       "\n",
       "[0 rows x 30 columns]"
      ]
     },
     "execution_count": 26,
     "metadata": {},
     "output_type": "execute_result"
    }
   ],
   "source": [
    "fulldata.merge(weatherdata, left_on='pickup_date',right_on='pickup_date',how='inner')"
   ]
  },
  {
   "cell_type": "code",
   "execution_count": 11,
   "metadata": {},
   "outputs": [
    {
     "data": {
      "text/html": [
       "<div>\n",
       "<style scoped>\n",
       "    .dataframe tbody tr th:only-of-type {\n",
       "        vertical-align: middle;\n",
       "    }\n",
       "\n",
       "    .dataframe tbody tr th {\n",
       "        vertical-align: top;\n",
       "    }\n",
       "\n",
       "    .dataframe thead th {\n",
       "        text-align: right;\n",
       "    }\n",
       "</style>\n",
       "<table border=\"1\" class=\"dataframe\">\n",
       "  <thead>\n",
       "    <tr style=\"text-align: right;\">\n",
       "      <th></th>\n",
       "      <th>pickup_date</th>\n",
       "      <th>avg_temp_C</th>\n",
       "      <th>Rain</th>\n",
       "      <th>Fog</th>\n",
       "      <th>Snow</th>\n",
       "    </tr>\n",
       "  </thead>\n",
       "  <tbody>\n",
       "    <tr>\n",
       "      <th>0</th>\n",
       "      <td>01.01.15</td>\n",
       "      <td>1</td>\n",
       "      <td>NaN</td>\n",
       "      <td>NaN</td>\n",
       "      <td>NaN</td>\n",
       "    </tr>\n",
       "    <tr>\n",
       "      <th>1</th>\n",
       "      <td>02.01.15</td>\n",
       "      <td>4</td>\n",
       "      <td>NaN</td>\n",
       "      <td>NaN</td>\n",
       "      <td>NaN</td>\n",
       "    </tr>\n",
       "    <tr>\n",
       "      <th>2</th>\n",
       "      <td>03.01.15</td>\n",
       "      <td>3</td>\n",
       "      <td>1.0</td>\n",
       "      <td>NaN</td>\n",
       "      <td>1.0</td>\n",
       "    </tr>\n",
       "    <tr>\n",
       "      <th>3</th>\n",
       "      <td>04.01.15</td>\n",
       "      <td>9</td>\n",
       "      <td>1.0</td>\n",
       "      <td>NaN</td>\n",
       "      <td>NaN</td>\n",
       "    </tr>\n",
       "    <tr>\n",
       "      <th>4</th>\n",
       "      <td>05.01.15</td>\n",
       "      <td>2</td>\n",
       "      <td>NaN</td>\n",
       "      <td>NaN</td>\n",
       "      <td>NaN</td>\n",
       "    </tr>\n",
       "  </tbody>\n",
       "</table>\n",
       "</div>"
      ],
      "text/plain": [
       "  pickup_date  avg_temp_C  Rain  Fog  Snow\n",
       "0    01.01.15           1   NaN  NaN   NaN\n",
       "1    02.01.15           4   NaN  NaN   NaN\n",
       "2    03.01.15           3   1.0  NaN   1.0\n",
       "3    04.01.15           9   1.0  NaN   NaN\n",
       "4    05.01.15           2   NaN  NaN   NaN"
      ]
     },
     "execution_count": 11,
     "metadata": {},
     "output_type": "execute_result"
    }
   ],
   "source": [
    "weatherdata.head()"
   ]
  },
  {
   "cell_type": "code",
   "execution_count": 23,
   "metadata": {},
   "outputs": [
    {
     "data": {
      "text/html": [
       "<div>\n",
       "<table border=\"1\" class=\"dataframe\">\n",
       "  <thead>\n",
       "    <tr style=\"text-align: right;\">\n",
       "      <th></th>\n",
       "      <th>pickup_date</th>\n",
       "      <th>avg_temp_C</th>\n",
       "      <th>Rain</th>\n",
       "      <th>Fog</th>\n",
       "      <th>Snow</th>\n",
       "    </tr>\n",
       "  </thead>\n",
       "  <tbody>\n",
       "    <tr>\n",
       "      <th>0</th>\n",
       "      <td>2015-01-01</td>\n",
       "      <td>1</td>\n",
       "      <td>NaN</td>\n",
       "      <td>NaN</td>\n",
       "      <td>NaN</td>\n",
       "    </tr>\n",
       "    <tr>\n",
       "      <th>1</th>\n",
       "      <td>2015-01-02</td>\n",
       "      <td>4</td>\n",
       "      <td>NaN</td>\n",
       "      <td>NaN</td>\n",
       "      <td>NaN</td>\n",
       "    </tr>\n",
       "    <tr>\n",
       "      <th>2</th>\n",
       "      <td>2015-01-03</td>\n",
       "      <td>3</td>\n",
       "      <td>1.0</td>\n",
       "      <td>NaN</td>\n",
       "      <td>1.0</td>\n",
       "    </tr>\n",
       "    <tr>\n",
       "      <th>3</th>\n",
       "      <td>2015-01-04</td>\n",
       "      <td>9</td>\n",
       "      <td>1.0</td>\n",
       "      <td>NaN</td>\n",
       "      <td>NaN</td>\n",
       "    </tr>\n",
       "    <tr>\n",
       "      <th>4</th>\n",
       "      <td>2015-01-05</td>\n",
       "      <td>2</td>\n",
       "      <td>NaN</td>\n",
       "      <td>NaN</td>\n",
       "      <td>NaN</td>\n",
       "    </tr>\n",
       "  </tbody>\n",
       "</table>\n",
       "</div>"
      ],
      "text/plain": [
       "  pickup_date  avg_temp_C  Rain  Fog  Snow\n",
       "0  2015-01-01           1   NaN  NaN   NaN\n",
       "1  2015-01-02           4   NaN  NaN   NaN\n",
       "2  2015-01-03           3   1.0  NaN   1.0\n",
       "3  2015-01-04           9   1.0  NaN   NaN\n",
       "4  2015-01-05           2   NaN  NaN   NaN"
      ]
     },
     "execution_count": 23,
     "metadata": {},
     "output_type": "execute_result"
    }
   ],
   "source": [
    "\n",
    "weatherdata['pickup_date'] = pd.to_datetime(weatherdata['pickup_date'], format=\"%d.%m.%y\", errors='coerce')\n",
    "weatherdata.head()"
   ]
  },
  {
   "cell_type": "code",
   "execution_count": null,
   "metadata": {},
   "outputs": [],
   "source": [
    "#---------------------------Merged Data Operations---------------------------------------#"
   ]
  },
  {
   "cell_type": "code",
   "execution_count": null,
   "metadata": {},
   "outputs": [],
   "source": [
    "final_data = spark.createDataFrame(pd.read_csv('C:/Users/SHIVANSHI/IST718 Dropbox/IST 718 Project/MERGED DATA/Read_Merged_Data1.csv'))"
   ]
  },
  {
   "cell_type": "code",
   "execution_count": 3,
   "metadata": {},
   "outputs": [],
   "source": [
    "sample_data = spark.createDataFrame(pd.read_csv('C:/Users/SHIVANSHI/IST718 Dropbox/IST 718 Project/MERGED DATA/Pandas_Sample.csv'))"
   ]
  },
  {
   "cell_type": "code",
   "execution_count": 4,
   "metadata": {
    "collapsed": true
   },
   "outputs": [
    {
     "name": "stdout",
     "output_type": "stream",
     "text": [
      "+----------+----------+--------------------+----------+----+---+----+-------+--------+-------------------+-------------------+---------------+-------------+------------------+------------------+----------+------------------+------------------+------------------+------------+-----------+-----+-------+----------+------------+---------------------+------------+----------+--------------+--------------------+-----------+---------------+--------------------+----------------+-------------------+-----------+------------+\n",
      "|Unnamed: 0| date_only|         pickup_date|avg_temp_C|Rain|Fog|Snow|Holiday|VendorID|    pickup_datetime|   dropoff_datetime|passenger_count|trip_distance|  pickup_longitude|   pickup_latitude|RateCodeID|store_and_fwd_flag| dropoff_longitude|  dropoff_latitude|payment_type|fare_amount|extra|mta_tax|tip_amount|tolls_amount|improvement_surcharge|total_amount|pickup_zip|pickup_borough| pickup_neighborhood|dropoff_zip|dropoff_borough|dropoff_neighborhood|pickup_dayofweek|pickup_weekday_name|pickup_hour|pickup_month|\n",
      "+----------+----------+--------------------+----------+----+---+----+-------+--------+-------------------+-------------------+---------------+-------------+------------------+------------------+----------+------------------+------------------+------------------+------------+-----------+-----+-------+----------+------------+---------------------+------------+----------+--------------+--------------------+-----------+---------------+--------------------+----------------+-------------------+-----------+------------+\n",
      "|    449044|2015-12-27|2015-12-27T00:00:...|        12|   1|  0|   0|      0|       2|2015-12-27 00:57:54|2015-12-27 01:01:45|              1|          0.7|-73.99003601074219|40.745113372802734|         1|                 N|-74.00057983398438| 40.74788284301758|           1|        4.5|  0.5|    0.5|      1.16|         0.0|                  0.3|        6.96|     10001|     Manhattan| Chelsea and Clinton|      10001|      Manhattan| Chelsea and Clinton|               6|             Sunday|          0|          12|\n",
      "|   1163396|2015-11-12|2015-11-12T00:00:...|        13|   1|  0|   0|      0|       1|2015-11-12 08:27:00|2015-11-12 08:38:12|              1|          1.3|-73.98117065429686| 40.77117156982422|         1|                 N|-73.97321319580078| 40.76028823852539|           2|        8.5|  0.0|    0.5|       0.0|         0.0|                  0.3|         9.3|     10023|     Manhattan|     Upper West Side|      10022|      Manhattan|Gramercy Park and...|               3|           Thursday|          8|          11|\n",
      "|    691012|2015-10-01|2015-10-01T00:00:...|        16|   1|  0|   0|      0|       1|2015-10-01 23:51:37|2015-10-02 00:08:43|              1|          4.8|-73.98763275146483|40.718509674072266|         1|                 N|-73.94757843017578| 40.77932739257813|           1|       16.5|  0.5|    0.5|      3.55|         0.0|                  0.3|       21.35|     10002|     Manhattan|     Lower East Side|      10128|      Manhattan|     Upper East Side|               3|           Thursday|         23|          10|\n",
      "|    402991|2015-04-29|2015-04-29T00:00:...|        18|   0|  0|   0|      0|       1|2015-04-29 23:19:58|2015-04-29 23:24:03|              1|          0.5|  -73.977783203125| 40.75300216674805|         1|                 N|-73.97482299804686|40.758644104003906|           1|        4.5|  0.5|    0.5|       2.0|         0.0|                  0.3|         7.8|     10017|     Manhattan|Gramercy Park and...|      10022|      Manhattan|Gramercy Park and...|               2|          Wednesday|         23|           4|\n",
      "|    500544|2015-02-28|2015-02-28T00:00:...|        -6|   0|  0|   0|      0|       2|2015-02-28 12:37:38|2015-02-28 12:42:40|              2|         0.92|   -73.98388671875| 40.74563217163085|         1|                 N|-73.98220825195312| 40.75502395629883|           2|        5.5|  0.0|    0.5|       0.0|         0.0|                  0.3|         6.3|     10016|     Manhattan|Gramercy Park and...|      10017|      Manhattan|Gramercy Park and...|               5|           Saturday|         12|           2|\n",
      "+----------+----------+--------------------+----------+----+---+----+-------+--------+-------------------+-------------------+---------------+-------------+------------------+------------------+----------+------------------+------------------+------------------+------------+-----------+-----+-------+----------+------------+---------------------+------------+----------+--------------+--------------------+-----------+---------------+--------------------+----------------+-------------------+-----------+------------+\n",
      "only showing top 5 rows\n",
      "\n"
     ]
    }
   ],
   "source": [
    "sample_data.show(5)"
   ]
  },
  {
   "cell_type": "code",
   "execution_count": 5,
   "metadata": {},
   "outputs": [],
   "source": [
    "sample_data = sample_data.drop('Unnamed: 0','pickup_date','date_only')"
   ]
  },
  {
   "cell_type": "code",
   "execution_count": 6,
   "metadata": {
    "collapsed": true
   },
   "outputs": [
    {
     "name": "stdout",
     "output_type": "stream",
     "text": [
      "root\n",
      " |-- avg_temp_C: long (nullable = true)\n",
      " |-- Rain: long (nullable = true)\n",
      " |-- Fog: long (nullable = true)\n",
      " |-- Snow: long (nullable = true)\n",
      " |-- Holiday: long (nullable = true)\n",
      " |-- VendorID: long (nullable = true)\n",
      " |-- pickup_datetime: string (nullable = true)\n",
      " |-- dropoff_datetime: string (nullable = true)\n",
      " |-- passenger_count: long (nullable = true)\n",
      " |-- trip_distance: double (nullable = true)\n",
      " |-- pickup_longitude: double (nullable = true)\n",
      " |-- pickup_latitude: double (nullable = true)\n",
      " |-- RateCodeID: long (nullable = true)\n",
      " |-- store_and_fwd_flag: string (nullable = true)\n",
      " |-- dropoff_longitude: double (nullable = true)\n",
      " |-- dropoff_latitude: double (nullable = true)\n",
      " |-- payment_type: long (nullable = true)\n",
      " |-- fare_amount: double (nullable = true)\n",
      " |-- extra: double (nullable = true)\n",
      " |-- mta_tax: double (nullable = true)\n",
      " |-- tip_amount: double (nullable = true)\n",
      " |-- tolls_amount: double (nullable = true)\n",
      " |-- improvement_surcharge: double (nullable = true)\n",
      " |-- total_amount: double (nullable = true)\n",
      " |-- pickup_zip: long (nullable = true)\n",
      " |-- pickup_borough: string (nullable = true)\n",
      " |-- pickup_neighborhood: string (nullable = true)\n",
      " |-- dropoff_zip: long (nullable = true)\n",
      " |-- dropoff_borough: string (nullable = true)\n",
      " |-- dropoff_neighborhood: string (nullable = true)\n",
      " |-- pickup_dayofweek: long (nullable = true)\n",
      " |-- pickup_weekday_name: string (nullable = true)\n",
      " |-- pickup_hour: long (nullable = true)\n",
      " |-- pickup_month: long (nullable = true)\n",
      "\n"
     ]
    }
   ],
   "source": [
    "sample_data.printSchema()"
   ]
  },
  {
   "cell_type": "code",
   "execution_count": 8,
   "metadata": {
    "collapsed": true
   },
   "outputs": [
    {
     "name": "stdout",
     "output_type": "stream",
     "text": [
      "root\n",
      " |-- avg_temp_C: long (nullable = true)\n",
      " |-- Rain: long (nullable = true)\n",
      " |-- Fog: long (nullable = true)\n",
      " |-- Snow: long (nullable = true)\n",
      " |-- Holiday: long (nullable = true)\n",
      " |-- VendorID: long (nullable = true)\n",
      " |-- pickup_datetime: string (nullable = true)\n",
      " |-- dropoff_datetime: string (nullable = true)\n",
      " |-- passenger_count: long (nullable = true)\n",
      " |-- trip_distance: double (nullable = true)\n",
      " |-- pickup_longitude: double (nullable = true)\n",
      " |-- pickup_latitude: double (nullable = true)\n",
      " |-- RateCodeID: long (nullable = true)\n",
      " |-- store_and_fwd_flag: string (nullable = true)\n",
      " |-- dropoff_longitude: double (nullable = true)\n",
      " |-- dropoff_latitude: double (nullable = true)\n",
      " |-- payment_type: long (nullable = true)\n",
      " |-- fare_amount: double (nullable = true)\n",
      " |-- extra: double (nullable = true)\n",
      " |-- mta_tax: double (nullable = true)\n",
      " |-- tip_amount: double (nullable = true)\n",
      " |-- tolls_amount: double (nullable = true)\n",
      " |-- improvement_surcharge: double (nullable = true)\n",
      " |-- total_amount: double (nullable = true)\n",
      " |-- pickup_zip: long (nullable = true)\n",
      " |-- pickup_borough: string (nullable = true)\n",
      " |-- pickup_neighborhood: string (nullable = true)\n",
      " |-- dropoff_zip: long (nullable = true)\n",
      " |-- dropoff_borough: string (nullable = true)\n",
      " |-- dropoff_neighborhood: string (nullable = true)\n",
      " |-- pickup_dayofweek: long (nullable = true)\n",
      " |-- pickup_weekday_name: string (nullable = true)\n",
      " |-- pickup_hour: long (nullable = true)\n",
      " |-- pickup_month: long (nullable = true)\n",
      "\n"
     ]
    }
   ],
   "source": [
    "sample_data.printSchema()"
   ]
  },
  {
   "cell_type": "code",
   "execution_count": 52,
   "metadata": {},
   "outputs": [],
   "source": []
  },
  {
   "cell_type": "code",
   "execution_count": 53,
   "metadata": {},
   "outputs": [],
   "source": []
  },
  {
   "cell_type": "code",
   "execution_count": 54,
   "metadata": {},
   "outputs": [],
   "source": []
  },
  {
   "cell_type": "code",
   "execution_count": 57,
   "metadata": {},
   "outputs": [
    {
     "data": {
      "text/plain": [
       "array([ 0.02460368,  0.00459694, -0.00242413, -0.02030871, -0.01128363,\n",
       "        0.00815524,  0.01416242,  0.89698299,  0.29461282, -0.02203972,\n",
       "        0.04024261,  0.31885632, -0.09000388, -0.18518544,  0.03929161,\n",
       "       -0.06652559,  0.64608975,  0.58869309,  0.01163316,  1.        ,\n",
       "        0.36270077,  0.41295884, -0.01658767,  0.00465715,  0.02822905])"
      ]
     },
     "execution_count": 57,
     "metadata": {},
     "output_type": "execute_result"
    }
   ],
   "source": []
  },
  {
   "cell_type": "code",
   "execution_count": null,
   "metadata": {},
   "outputs": [],
   "source": []
  },
  {
   "cell_type": "code",
   "execution_count": 58,
   "metadata": {},
   "outputs": [],
   "source": [
    "dummy_df = sample_data.select('*',fn.when(fn.col('pickup_borough') == 'Queens',1).otherwise(0).alias('pickup_Queens'),\n",
    "                           fn.when(fn.col('pickup_borough') == 'Brooklyn',1).otherwise(0).alias('pickup_Brooklyn'),\n",
    "                           fn.when(fn.col('pickup_borough') == 'Manhattan',1).otherwise(0).alias('pickup_Manhattan'),\n",
    "                           fn.when(fn.col('pickup_borough') == 'Bronx',1).otherwise(0).alias('pickup_Bronx'),\n",
    "                           fn.when(fn.col('dropoff_borough') == 'Queens',1).otherwise(0).alias('dropoff_Queens'),\n",
    "                           fn.when(fn.col('dropoff_borough') == 'Brooklyn',1).otherwise(0).alias('dropoff_Brooklyn'),\n",
    "                           fn.when(fn.col('dropoff_borough') == 'Manhattan',1).otherwise(0).alias('dropoff_Manhattan'),\n",
    "                           fn.when(fn.col('dropoff_borough') == 'Bronx',1).otherwise(0).alias('dropoff_Bronx'))\n",
    "dummy_df = dummy_df.drop('pickup_borough','dropoff_borough')"
   ]
  },
  {
   "cell_type": "code",
   "execution_count": 59,
   "metadata": {},
   "outputs": [
    {
     "name": "stdout",
     "output_type": "stream",
     "text": [
      "+----------+----+---+----+-------+--------+-------------------+-------------------+---------------+-------------+------------------+------------------+----------+------------------+------------------+------------------+------------+-----------+-----+-------+----------+------------+---------------------+------------+----------+--------------------+-----------+--------------------+----------------+-------------------+-----------+------------+-------------+---------------+----------------+------------+--------------+----------------+-----------------+-------------+\n",
      "|avg_temp_C|Rain|Fog|Snow|Holiday|VendorID|    pickup_datetime|   dropoff_datetime|passenger_count|trip_distance|  pickup_longitude|   pickup_latitude|RateCodeID|store_and_fwd_flag| dropoff_longitude|  dropoff_latitude|payment_type|fare_amount|extra|mta_tax|tip_amount|tolls_amount|improvement_surcharge|total_amount|pickup_zip| pickup_neighborhood|dropoff_zip|dropoff_neighborhood|pickup_dayofweek|pickup_weekday_name|pickup_hour|pickup_month|pickup_Queens|pickup_Brooklyn|pickup_Manhattan|pickup_Bronx|dropoff_Queens|dropoff_Brooklyn|dropoff_Manhattan|dropoff_Bronx|\n",
      "+----------+----+---+----+-------+--------+-------------------+-------------------+---------------+-------------+------------------+------------------+----------+------------------+------------------+------------------+------------+-----------+-----+-------+----------+------------+---------------------+------------+----------+--------------------+-----------+--------------------+----------------+-------------------+-----------+------------+-------------+---------------+----------------+------------+--------------+----------------+-----------------+-------------+\n",
      "|        12|   1|  0|   0|      0|       2|2015-12-27 00:57:54|2015-12-27 01:01:45|              1|          0.7|-73.99003601074219|40.745113372802734|         1|                 N|-74.00057983398438| 40.74788284301758|           1|        4.5|  0.5|    0.5|      1.16|         0.0|                  0.3|        6.96|     10001| Chelsea and Clinton|      10001| Chelsea and Clinton|               6|             Sunday|          0|          12|            0|              0|               1|           0|             0|               0|                1|            0|\n",
      "|        13|   1|  0|   0|      0|       1|2015-11-12 08:27:00|2015-11-12 08:38:12|              1|          1.3|-73.98117065429686| 40.77117156982422|         1|                 N|-73.97321319580078| 40.76028823852539|           2|        8.5|  0.0|    0.5|       0.0|         0.0|                  0.3|         9.3|     10023|     Upper West Side|      10022|Gramercy Park and...|               3|           Thursday|          8|          11|            0|              0|               1|           0|             0|               0|                1|            0|\n",
      "|        16|   1|  0|   0|      0|       1|2015-10-01 23:51:37|2015-10-02 00:08:43|              1|          4.8|-73.98763275146483|40.718509674072266|         1|                 N|-73.94757843017578| 40.77932739257813|           1|       16.5|  0.5|    0.5|      3.55|         0.0|                  0.3|       21.35|     10002|     Lower East Side|      10128|     Upper East Side|               3|           Thursday|         23|          10|            0|              0|               1|           0|             0|               0|                1|            0|\n",
      "|        18|   0|  0|   0|      0|       1|2015-04-29 23:19:58|2015-04-29 23:24:03|              1|          0.5|  -73.977783203125| 40.75300216674805|         1|                 N|-73.97482299804686|40.758644104003906|           1|        4.5|  0.5|    0.5|       2.0|         0.0|                  0.3|         7.8|     10017|Gramercy Park and...|      10022|Gramercy Park and...|               2|          Wednesday|         23|           4|            0|              0|               1|           0|             0|               0|                1|            0|\n",
      "|        -6|   0|  0|   0|      0|       2|2015-02-28 12:37:38|2015-02-28 12:42:40|              2|         0.92|   -73.98388671875| 40.74563217163085|         1|                 N|-73.98220825195312| 40.75502395629883|           2|        5.5|  0.0|    0.5|       0.0|         0.0|                  0.3|         6.3|     10016|Gramercy Park and...|      10017|Gramercy Park and...|               5|           Saturday|         12|           2|            0|              0|               1|           0|             0|               0|                1|            0|\n",
      "+----------+----+---+----+-------+--------+-------------------+-------------------+---------------+-------------+------------------+------------------+----------+------------------+------------------+------------------+------------+-----------+-----+-------+----------+------------+---------------------+------------+----------+--------------------+-----------+--------------------+----------------+-------------------+-----------+------------+-------------+---------------+----------------+------------+--------------+----------------+-----------------+-------------+\n",
      "only showing top 5 rows\n",
      "\n"
     ]
    }
   ],
   "source": [
    "dummy_df.show(5)"
   ]
  },
  {
   "cell_type": "code",
   "execution_count": 60,
   "metadata": {},
   "outputs": [],
   "source": [
    "dummy_df = dummy_df.withColumn('pickup_datetime', fn.to_timestamp(fn.col('pickup_datetime')))\n",
    "dummy_df = dummy_df.withColumn('dropoff_datetime', fn.to_timestamp(fn.col('dropoff_datetime')))"
   ]
  },
  {
   "cell_type": "code",
   "execution_count": 61,
   "metadata": {},
   "outputs": [
    {
     "name": "stdout",
     "output_type": "stream",
     "text": [
      "root\n",
      " |-- avg_temp_C: long (nullable = true)\n",
      " |-- Rain: long (nullable = true)\n",
      " |-- Fog: long (nullable = true)\n",
      " |-- Snow: long (nullable = true)\n",
      " |-- Holiday: long (nullable = true)\n",
      " |-- VendorID: long (nullable = true)\n",
      " |-- pickup_datetime: timestamp (nullable = true)\n",
      " |-- dropoff_datetime: timestamp (nullable = true)\n",
      " |-- passenger_count: long (nullable = true)\n",
      " |-- trip_distance: double (nullable = true)\n",
      " |-- pickup_longitude: double (nullable = true)\n",
      " |-- pickup_latitude: double (nullable = true)\n",
      " |-- RateCodeID: long (nullable = true)\n",
      " |-- store_and_fwd_flag: string (nullable = true)\n",
      " |-- dropoff_longitude: double (nullable = true)\n",
      " |-- dropoff_latitude: double (nullable = true)\n",
      " |-- payment_type: long (nullable = true)\n",
      " |-- fare_amount: double (nullable = true)\n",
      " |-- extra: double (nullable = true)\n",
      " |-- mta_tax: double (nullable = true)\n",
      " |-- tip_amount: double (nullable = true)\n",
      " |-- tolls_amount: double (nullable = true)\n",
      " |-- improvement_surcharge: double (nullable = true)\n",
      " |-- total_amount: double (nullable = true)\n",
      " |-- pickup_zip: long (nullable = true)\n",
      " |-- pickup_neighborhood: string (nullable = true)\n",
      " |-- dropoff_zip: long (nullable = true)\n",
      " |-- dropoff_neighborhood: string (nullable = true)\n",
      " |-- pickup_dayofweek: long (nullable = true)\n",
      " |-- pickup_weekday_name: string (nullable = true)\n",
      " |-- pickup_hour: long (nullable = true)\n",
      " |-- pickup_month: long (nullable = true)\n",
      " |-- pickup_Queens: integer (nullable = false)\n",
      " |-- pickup_Brooklyn: integer (nullable = false)\n",
      " |-- pickup_Manhattan: integer (nullable = false)\n",
      " |-- pickup_Bronx: integer (nullable = false)\n",
      " |-- dropoff_Queens: integer (nullable = false)\n",
      " |-- dropoff_Brooklyn: integer (nullable = false)\n",
      " |-- dropoff_Manhattan: integer (nullable = false)\n",
      " |-- dropoff_Bronx: integer (nullable = false)\n",
      "\n"
     ]
    }
   ],
   "source": [
    "dummy_df.printSchema()"
   ]
  },
  {
   "cell_type": "code",
   "execution_count": 11,
   "metadata": {},
   "outputs": [
    {
     "name": "stdout",
     "output_type": "stream",
     "text": [
      "+------------+\n",
      "|payment_type|\n",
      "+------------+\n",
      "|           1|\n",
      "|           3|\n",
      "|           2|\n",
      "|           4|\n",
      "+------------+\n",
      "\n"
     ]
    }
   ],
   "source": [
    "dummy_df.select('payment_type').distinct().show()"
   ]
  },
  {
   "cell_type": "code",
   "execution_count": 62,
   "metadata": {},
   "outputs": [],
   "source": [
    "#base is unknown #5\n",
    "dummy_df = dummy_df.select('*',fn.when(fn.col('payment_type') == '1',1).otherwise(0).alias('ptype_CCard'),\n",
    "                           fn.when(fn.col('payment_type') == '2',1).otherwise(0).alias('ptype_cash'),\n",
    "                           fn.when(fn.col('payment_type') == '3',1).otherwise(0).alias('ptype_nocharge'),\n",
    "                           fn.when(fn.col('payment_type') == '4',1).otherwise(0).alias('ptype_dispute'),\n",
    "                           fn.when(fn.col('payment_type') == '6',1).otherwise(0).alias('ptype_voidtrip'))\n",
    "dummy_df = dummy_df.drop('payment_type')"
   ]
  },
  {
   "cell_type": "code",
   "execution_count": 63,
   "metadata": {},
   "outputs": [],
   "source": [
    "# base is 99\n",
    "dummy_df= dummy_df.select('*',fn.when(fn.col('RateCodeID')=='1',1).otherwise(0).alias('RateCode_stdrate'), fn.when(fn.col('RateCodeID')=='2',1).otherwise(0).alias('RateCode_JFK'),\n",
    "                          fn.when(fn.col('RateCodeID')=='3',1).otherwise(0).alias('RateCode_Newark'), fn.when(fn.col('RateCodeID')=='4',1).otherwise(0).alias('RateCode_NW'),\n",
    "                         fn.when(fn.col('RateCodeID')=='5',1).otherwise(0).alias('RateCode_Negotiated'), fn.when(fn.col('RateCodeID')=='6',1).otherwise(0).alias('RateCode_Group'))\n",
    "dummy_df = dummy_df.drop('RateCodeID')"
   ]
  },
  {
   "cell_type": "code",
   "execution_count": 64,
   "metadata": {},
   "outputs": [
    {
     "data": {
      "text/plain": [
       "49"
      ]
     },
     "execution_count": 64,
     "metadata": {},
     "output_type": "execute_result"
    }
   ],
   "source": [
    "len(dummy_df.columns) #45"
   ]
  },
  {
   "cell_type": "code",
   "execution_count": 65,
   "metadata": {},
   "outputs": [],
   "source": [
    "dummy_df = dummy_df.withColumn('store_and_fwd_flag',fn.when(fn.col('store_and_fwd_flag')== 'Y',1).otherwise(0))"
   ]
  },
  {
   "cell_type": "code",
   "execution_count": 66,
   "metadata": {},
   "outputs": [],
   "source": [
    "#base is 2\n",
    "dummy_df = dummy_df.withColumn('VendorID',fn.when(fn.col('VendorID')=='1',1).otherwise(0))"
   ]
  },
  {
   "cell_type": "code",
   "execution_count": 67,
   "metadata": {},
   "outputs": [],
   "source": [
    "dummy_df1 = dummy_df\n",
    "dummy_df1 = dummy_df1.sample(False, 1.0, 42)"
   ]
  },
  {
   "cell_type": "code",
   "execution_count": 68,
   "metadata": {},
   "outputs": [
    {
     "name": "stdout",
     "output_type": "stream",
     "text": [
      "+----------+----+---+----+-------+--------+-------------------+-------------------+---------------+-------------+------------------+------------------+------------------+------------------+-----------------+-----------+-----+-------+----------+------------+---------------------+------------+----------+-------------------+-----------+--------------------+----------------+-------------------+-----------+------------+-------------+---------------+----------------+------------+--------------+----------------+-----------------+-------------+-----------+----------+--------------+-------------+--------------+----------------+------------+---------------+-----------+-------------------+--------------+\n",
      "|avg_temp_C|Rain|Fog|Snow|Holiday|VendorID|    pickup_datetime|   dropoff_datetime|passenger_count|trip_distance|  pickup_longitude|   pickup_latitude|store_and_fwd_flag| dropoff_longitude| dropoff_latitude|fare_amount|extra|mta_tax|tip_amount|tolls_amount|improvement_surcharge|total_amount|pickup_zip|pickup_neighborhood|dropoff_zip|dropoff_neighborhood|pickup_dayofweek|pickup_weekday_name|pickup_hour|pickup_month|pickup_Queens|pickup_Brooklyn|pickup_Manhattan|pickup_Bronx|dropoff_Queens|dropoff_Brooklyn|dropoff_Manhattan|dropoff_Bronx|ptype_CCard|ptype_cash|ptype_nocharge|ptype_dispute|ptype_voidtrip|RateCode_stdrate|RateCode_JFK|RateCode_Newark|RateCode_NW|RateCode_Negotiated|RateCode_Group|\n",
      "+----------+----+---+----+-------+--------+-------------------+-------------------+---------------+-------------+------------------+------------------+------------------+------------------+-----------------+-----------+-----+-------+----------+------------+---------------------+------------+----------+-------------------+-----------+--------------------+----------------+-------------------+-----------+------------+-------------+---------------+----------------+------------+--------------+----------------+-----------------+-------------+-----------+----------+--------------+-------------+--------------+----------------+------------+---------------+-----------+-------------------+--------------+\n",
      "|        12|   1|  0|   0|      0|       0|2015-12-27 00:57:54|2015-12-27 01:01:45|              1|          0.7|-73.99003601074219|40.745113372802734|                 0|-74.00057983398438|40.74788284301758|        4.5|  0.5|    0.5|      1.16|         0.0|                  0.3|        6.96|     10001|Chelsea and Clinton|      10001| Chelsea and Clinton|               6|             Sunday|          0|          12|            0|              0|               1|           0|             0|               0|                1|            0|          1|         0|             0|            0|             0|               1|           0|              0|          0|                  0|             0|\n",
      "|        13|   1|  0|   0|      0|       1|2015-11-12 08:27:00|2015-11-12 08:38:12|              1|          1.3|-73.98117065429686| 40.77117156982422|                 0|-73.97321319580078|40.76028823852539|        8.5|  0.0|    0.5|       0.0|         0.0|                  0.3|         9.3|     10023|    Upper West Side|      10022|Gramercy Park and...|               3|           Thursday|          8|          11|            0|              0|               1|           0|             0|               0|                1|            0|          0|         1|             0|            0|             0|               1|           0|              0|          0|                  0|             0|\n",
      "+----------+----+---+----+-------+--------+-------------------+-------------------+---------------+-------------+------------------+------------------+------------------+------------------+-----------------+-----------+-----+-------+----------+------------+---------------------+------------+----------+-------------------+-----------+--------------------+----------------+-------------------+-----------+------------+-------------+---------------+----------------+------------+--------------+----------------+-----------------+-------------+-----------+----------+--------------+-------------+--------------+----------------+------------+---------------+-----------+-------------------+--------------+\n",
      "only showing top 2 rows\n",
      "\n"
     ]
    }
   ],
   "source": [
    "dummy_df1.show(2)"
   ]
  },
  {
   "cell_type": "code",
   "execution_count": 70,
   "metadata": {},
   "outputs": [],
   "source": [
    "#dummy_df1.select('pickup_datetime','weekday').show(2)"
   ]
  },
  {
   "cell_type": "code",
   "execution_count": 71,
   "metadata": {},
   "outputs": [
    {
     "name": "stdout",
     "output_type": "stream",
     "text": [
      "+----------+----+---+----+-------+--------+-------------------+-------------------+---------------+-------------+------------------+------------------+------------------+------------------+-----------------+-----------+-----+-------+----------+------------+---------------------+------------+----------+-------------------+-----------+--------------------+----------------+-------------------+-----------+------------+-------------+---------------+----------------+------------+--------------+----------------+-----------------+-------------+-----------+----------+--------------+-------------+--------------+----------------+------------+---------------+-----------+-------------------+--------------+\n",
      "|avg_temp_C|Rain|Fog|Snow|Holiday|VendorID|    pickup_datetime|   dropoff_datetime|passenger_count|trip_distance|  pickup_longitude|   pickup_latitude|store_and_fwd_flag| dropoff_longitude| dropoff_latitude|fare_amount|extra|mta_tax|tip_amount|tolls_amount|improvement_surcharge|total_amount|pickup_zip|pickup_neighborhood|dropoff_zip|dropoff_neighborhood|pickup_dayofweek|pickup_weekday_name|pickup_hour|pickup_month|pickup_Queens|pickup_Brooklyn|pickup_Manhattan|pickup_Bronx|dropoff_Queens|dropoff_Brooklyn|dropoff_Manhattan|dropoff_Bronx|ptype_CCard|ptype_cash|ptype_nocharge|ptype_dispute|ptype_voidtrip|RateCode_stdrate|RateCode_JFK|RateCode_Newark|RateCode_NW|RateCode_Negotiated|RateCode_Group|\n",
      "+----------+----+---+----+-------+--------+-------------------+-------------------+---------------+-------------+------------------+------------------+------------------+------------------+-----------------+-----------+-----+-------+----------+------------+---------------------+------------+----------+-------------------+-----------+--------------------+----------------+-------------------+-----------+------------+-------------+---------------+----------------+------------+--------------+----------------+-----------------+-------------+-----------+----------+--------------+-------------+--------------+----------------+------------+---------------+-----------+-------------------+--------------+\n",
      "|        12|   1|  0|   0|      0|       0|2015-12-27 00:57:54|2015-12-27 01:01:45|              1|          0.7|-73.99003601074219|40.745113372802734|                 0|-74.00057983398438|40.74788284301758|        4.5|  0.5|    0.5|      1.16|         0.0|                  0.3|        6.96|     10001|Chelsea and Clinton|      10001| Chelsea and Clinton|               6|             Sunday|          0|          12|            0|              0|               1|           0|             0|               0|                1|            0|          1|         0|             0|            0|             0|               1|           0|              0|          0|                  0|             0|\n",
      "|        13|   1|  0|   0|      0|       1|2015-11-12 08:27:00|2015-11-12 08:38:12|              1|          1.3|-73.98117065429686| 40.77117156982422|                 0|-73.97321319580078|40.76028823852539|        8.5|  0.0|    0.5|       0.0|         0.0|                  0.3|         9.3|     10023|    Upper West Side|      10022|Gramercy Park and...|               3|           Thursday|          8|          11|            0|              0|               1|           0|             0|               0|                1|            0|          0|         1|             0|            0|             0|               1|           0|              0|          0|                  0|             0|\n",
      "+----------+----+---+----+-------+--------+-------------------+-------------------+---------------+-------------+------------------+------------------+------------------+------------------+-----------------+-----------+-----+-------+----------+------------+---------------------+------------+----------+-------------------+-----------+--------------------+----------------+-------------------+-----------+------------+-------------+---------------+----------------+------------+--------------+----------------+-----------------+-------------+-----------+----------+--------------+-------------+--------------+----------------+------------+---------------+-----------+-------------------+--------------+\n",
      "only showing top 2 rows\n",
      "\n"
     ]
    }
   ],
   "source": [
    "dummy_df1.show(2)"
   ]
  },
  {
   "cell_type": "code",
   "execution_count": 79,
   "metadata": {},
   "outputs": [
    {
     "name": "stdout",
     "output_type": "stream",
     "text": [
      "+----------------+----------------+-------------------+\n",
      "|Pickup_only_Date|Pickup_only_Time|                dty|\n",
      "+----------------+----------------+-------------------+\n",
      "|      12/27/2015|     12:57:54 AM|2015-12-27 00:57:54|\n",
      "|      11/12/2015|       8:27:0 AM|2015-11-12 08:27:00|\n",
      "+----------------+----------------+-------------------+\n",
      "only showing top 2 rows\n",
      "\n"
     ]
    }
   ],
   "source": [
    "from pyspark.sql.functions import unix_timestamp, from_unixtime, date_format\n",
    "\n",
    "df1=dummy_df1.select(unix_timestamp(dummy_df1.pickup_datetime).alias('ut'))\\\n",
    "  .select(from_unixtime('ut').alias('dty'))\\\n",
    "  .select(date_format('dty', 'M/d/yyyy').alias('Pickup_only_Date'),\n",
    "          date_format('dty', 'h:m:s a').alias('Pickup_only_Time'),'*')\n",
    "\n",
    "df1.show(2)\n",
    "\n",
    "#df2=df1.select(unix_timestamp(df1.dropoff_datetime).alias('ut'))\\\n",
    "#  .select(from_unixtime('ut').alias('dty'))\\\n",
    "#  .select(date_format('dty', 'M/d/yyyy').alias('Dropoff_only_Date'),\n",
    "#          date_format('dty', 'h:m:s a').alias('Dropoff_only_Time'),'*')\n",
    "  \n"
   ]
  },
  {
   "cell_type": "code",
   "execution_count": 82,
   "metadata": {},
   "outputs": [],
   "source": [
    "from pyspark.sql import functions as F\n",
    "timeFmt = \"yyyy-MM-dd'T'HH:mm:ss.SSS\"\n",
    "timeDiff = (F.unix_timestamp(dummy_df1.dropoff_datetime, format=timeFmt)\n",
    "            - F.unix_timestamp(dummy_df1.pickup_datetime, format=timeFmt))\n",
    "#dummy_df1 = dummy_df1.wfrom pyspark.sql import functions as F\n",
    "timeFmt = \"yyyy-MM-dd'T'HH:mm:ss.SSS\"\n",
    "timeDiff = (F.unix_timestamp(dummy_df1.dropoff_datetime, format=timeFmt)\n",
    "            - F.unix_timestamp(dummy_df1.pickup_datetime, format=timeFmt))\n",
    "dummy_df1 = dummy_df1.withColumn(\"Duration\", timeDiff)"
   ]
  },
  {
   "cell_type": "code",
   "execution_count": 83,
   "metadata": {},
   "outputs": [
    {
     "name": "stdout",
     "output_type": "stream",
     "text": [
      "+----------+----+---+----+-------+--------+-------------------+-------------------+---------------+-------------+------------------+------------------+------------------+------------------+-----------------+-----------+-----+-------+----------+------------+---------------------+------------+----------+-------------------+-----------+--------------------+----------------+-------------------+-----------+------------+-------------+---------------+----------------+------------+--------------+----------------+-----------------+-------------+-----------+----------+--------------+-------------+--------------+----------------+------------+---------------+-----------+-------------------+--------------+--------+\n",
      "|avg_temp_C|Rain|Fog|Snow|Holiday|VendorID|    pickup_datetime|   dropoff_datetime|passenger_count|trip_distance|  pickup_longitude|   pickup_latitude|store_and_fwd_flag| dropoff_longitude| dropoff_latitude|fare_amount|extra|mta_tax|tip_amount|tolls_amount|improvement_surcharge|total_amount|pickup_zip|pickup_neighborhood|dropoff_zip|dropoff_neighborhood|pickup_dayofweek|pickup_weekday_name|pickup_hour|pickup_month|pickup_Queens|pickup_Brooklyn|pickup_Manhattan|pickup_Bronx|dropoff_Queens|dropoff_Brooklyn|dropoff_Manhattan|dropoff_Bronx|ptype_CCard|ptype_cash|ptype_nocharge|ptype_dispute|ptype_voidtrip|RateCode_stdrate|RateCode_JFK|RateCode_Newark|RateCode_NW|RateCode_Negotiated|RateCode_Group|Duration|\n",
      "+----------+----+---+----+-------+--------+-------------------+-------------------+---------------+-------------+------------------+------------------+------------------+------------------+-----------------+-----------+-----+-------+----------+------------+---------------------+------------+----------+-------------------+-----------+--------------------+----------------+-------------------+-----------+------------+-------------+---------------+----------------+------------+--------------+----------------+-----------------+-------------+-----------+----------+--------------+-------------+--------------+----------------+------------+---------------+-----------+-------------------+--------------+--------+\n",
      "|        12|   1|  0|   0|      0|       0|2015-12-27 00:57:54|2015-12-27 01:01:45|              1|          0.7|-73.99003601074219|40.745113372802734|                 0|-74.00057983398438|40.74788284301758|        4.5|  0.5|    0.5|      1.16|         0.0|                  0.3|        6.96|     10001|Chelsea and Clinton|      10001| Chelsea and Clinton|               6|             Sunday|          0|          12|            0|              0|               1|           0|             0|               0|                1|            0|          1|         0|             0|            0|             0|               1|           0|              0|          0|                  0|             0|     231|\n",
      "|        13|   1|  0|   0|      0|       1|2015-11-12 08:27:00|2015-11-12 08:38:12|              1|          1.3|-73.98117065429686| 40.77117156982422|                 0|-73.97321319580078|40.76028823852539|        8.5|  0.0|    0.5|       0.0|         0.0|                  0.3|         9.3|     10023|    Upper West Side|      10022|Gramercy Park and...|               3|           Thursday|          8|          11|            0|              0|               1|           0|             0|               0|                1|            0|          0|         1|             0|            0|             0|               1|           0|              0|          0|                  0|             0|     672|\n",
      "+----------+----+---+----+-------+--------+-------------------+-------------------+---------------+-------------+------------------+------------------+------------------+------------------+-----------------+-----------+-----+-------+----------+------------+---------------------+------------+----------+-------------------+-----------+--------------------+----------------+-------------------+-----------+------------+-------------+---------------+----------------+------------+--------------+----------------+-----------------+-------------+-----------+----------+--------------+-------------+--------------+----------------+------------+---------------+-----------+-------------------+--------------+--------+\n",
      "only showing top 2 rows\n",
      "\n"
     ]
    }
   ],
   "source": [
    "dummy_df1.show(2)"
   ]
  },
  {
   "cell_type": "code",
   "execution_count": 84,
   "metadata": {},
   "outputs": [
    {
     "name": "stdout",
     "output_type": "stream",
     "text": [
      "root\n",
      " |-- avg_temp_C: long (nullable = true)\n",
      " |-- Rain: long (nullable = true)\n",
      " |-- Fog: long (nullable = true)\n",
      " |-- Snow: long (nullable = true)\n",
      " |-- Holiday: long (nullable = true)\n",
      " |-- VendorID: integer (nullable = false)\n",
      " |-- pickup_datetime: timestamp (nullable = true)\n",
      " |-- dropoff_datetime: timestamp (nullable = true)\n",
      " |-- passenger_count: long (nullable = true)\n",
      " |-- trip_distance: double (nullable = true)\n",
      " |-- pickup_longitude: double (nullable = true)\n",
      " |-- pickup_latitude: double (nullable = true)\n",
      " |-- store_and_fwd_flag: integer (nullable = false)\n",
      " |-- dropoff_longitude: double (nullable = true)\n",
      " |-- dropoff_latitude: double (nullable = true)\n",
      " |-- fare_amount: double (nullable = true)\n",
      " |-- extra: double (nullable = true)\n",
      " |-- mta_tax: double (nullable = true)\n",
      " |-- tip_amount: double (nullable = true)\n",
      " |-- tolls_amount: double (nullable = true)\n",
      " |-- improvement_surcharge: double (nullable = true)\n",
      " |-- total_amount: double (nullable = true)\n",
      " |-- pickup_zip: long (nullable = true)\n",
      " |-- pickup_neighborhood: string (nullable = true)\n",
      " |-- dropoff_zip: long (nullable = true)\n",
      " |-- dropoff_neighborhood: string (nullable = true)\n",
      " |-- pickup_dayofweek: long (nullable = true)\n",
      " |-- pickup_weekday_name: string (nullable = true)\n",
      " |-- pickup_hour: long (nullable = true)\n",
      " |-- pickup_month: long (nullable = true)\n",
      " |-- pickup_Queens: integer (nullable = false)\n",
      " |-- pickup_Brooklyn: integer (nullable = false)\n",
      " |-- pickup_Manhattan: integer (nullable = false)\n",
      " |-- pickup_Bronx: integer (nullable = false)\n",
      " |-- dropoff_Queens: integer (nullable = false)\n",
      " |-- dropoff_Brooklyn: integer (nullable = false)\n",
      " |-- dropoff_Manhattan: integer (nullable = false)\n",
      " |-- dropoff_Bronx: integer (nullable = false)\n",
      " |-- ptype_CCard: integer (nullable = false)\n",
      " |-- ptype_cash: integer (nullable = false)\n",
      " |-- ptype_nocharge: integer (nullable = false)\n",
      " |-- ptype_dispute: integer (nullable = false)\n",
      " |-- ptype_voidtrip: integer (nullable = false)\n",
      " |-- RateCode_stdrate: integer (nullable = false)\n",
      " |-- RateCode_JFK: integer (nullable = false)\n",
      " |-- RateCode_Newark: integer (nullable = false)\n",
      " |-- RateCode_NW: integer (nullable = false)\n",
      " |-- RateCode_Negotiated: integer (nullable = false)\n",
      " |-- RateCode_Group: integer (nullable = false)\n",
      " |-- Duration: long (nullable = true)\n",
      "\n"
     ]
    }
   ],
   "source": [
    "dummy_df1.printSchema()"
   ]
  },
  {
   "cell_type": "code",
   "execution_count": 2,
   "metadata": {},
   "outputs": [
    {
     "ename": "NameError",
     "evalue": "name 'dummy_df1' is not defined",
     "output_type": "error",
     "traceback": [
      "\u001b[0;31m---------------------------------------------------------------------------\u001b[0m",
      "\u001b[0;31mNameError\u001b[0m                                 Traceback (most recent call last)",
      "\u001b[0;32m<ipython-input-2-e6caadf86259>\u001b[0m in \u001b[0;36m<module>\u001b[0;34m()\u001b[0m\n\u001b[0;32m----> 1\u001b[0;31m \u001b[0mlen\u001b[0m\u001b[0;34m(\u001b[0m\u001b[0mdummy_df1\u001b[0m\u001b[0;34m.\u001b[0m\u001b[0mcolumns\u001b[0m\u001b[0;34m)\u001b[0m\u001b[0;34m\u001b[0m\u001b[0m\n\u001b[0m",
      "\u001b[0;31mNameError\u001b[0m: name 'dummy_df1' is not defined"
     ]
    }
   ],
   "source": [
    "len(dummy_df1.columns)"
   ]
  },
  {
   "cell_type": "code",
   "execution_count": 89,
   "metadata": {},
   "outputs": [],
   "source": [
    "va = feature.VectorAssembler(inputCols=['avg_temp_C','Rain','Fog','Snow','Holiday','VendorID',\n",
    "                                        'passenger_count', 'trip_distance','store_and_fwd_flag',\n",
    "                                        'pickup_longitude','pickup_latitude','dropoff_longitude','dropoff_latitude',\n",
    "                                        'extra','mta_tax','tip_amount','tolls_amount','improvement_surcharge',\n",
    "                                        'total_amount','pickup_zip','dropoff_zip',\n",
    "                                        'pickup_dayofweek', 'pickup_hour', 'pickup_month','pickup_Queens','pickup_Brooklyn',\n",
    "                                        'pickup_Manhattan','pickup_Bronx','dropoff_Queens','dropoff_Brooklyn',\n",
    "                                        'dropoff_Manhattan','dropoff_Bronx','ptype_CCard','ptype_cash','ptype_nocharge',\n",
    "                                        'ptype_dispute','ptype_voidtrip','RateCode_stdrate','RateCode_JFK',\n",
    "                                        'RateCode_Newark','RateCode_NW','RateCode_Negotiated','RateCode_Group',\n",
    "                                        'Duration'] , outputCol='features')"
   ]
  },
  {
   "cell_type": "code",
   "execution_count": 90,
   "metadata": {},
   "outputs": [],
   "source": [
    "features_sample_df = va.transform(dummy_df1)\n",
    "\n",
    "from pyspark.ml.stat import Correlation\n",
    "r1 = Correlation.corr(features_sample_df, 'features').head()\n"
   ]
  },
  {
   "cell_type": "code",
   "execution_count": 92,
   "metadata": {},
   "outputs": [
    {
     "data": {
      "text/plain": [
       "array([ 0.02460368,  0.00459694, -0.00242413, -0.02030871, -0.01128363,\n",
       "       -0.00815524,  0.01416242,  0.89698299,  0.00163576,  0.29461282,\n",
       "       -0.02203972,  0.31885632, -0.09000388,  0.03929161, -0.06652559,\n",
       "        0.64608975,  0.58869309,  0.01163316,  1.        ,  0.36270077,\n",
       "        0.41295884, -0.01658767,  0.00465715,  0.02822905,  0.39567379,\n",
       "        0.02765049, -0.34314617,  0.0011365 ,  0.32284087,  0.21704112,\n",
       "       -0.41059884,  0.12499476,  0.19046307, -0.19082707, -0.00516868,\n",
       "        0.00803957,         nan, -0.18506046,  0.15910981,  0.00852571,\n",
       "        0.02194359,  0.10076259,         nan,  0.82628991])"
      ]
     },
     "execution_count": 92,
     "metadata": {},
     "output_type": "execute_result"
    }
   ],
   "source": [
    "#print(\"Pearson correlation matrix:\\n\" + str(r1[0]))\n",
    "#''avg_temp_C','Rain','Fog','Snow','Holiday','VendorID',\n",
    "#                                        'passenger_count', 'trip_distance','store_and_fwd_flag',\n",
    " #                                       'pickup_longitude','pickup_latitude','dropoff_longitude','dropoff_latitude',\n",
    " #                                       'extra','mta_tax','tip_amount','tolls_amount','improvement_surcharge',\n",
    "#                                     'total_amount','pickup_zip','dropoff_zip',\n",
    "#                                       'pickup_dayofweek', 'pickup_hour', 'pickup_month','pickup_Queens','pickup_Brooklyn',\n",
    " #                                       'pickup_Manhattan','pickup_Bronx','dropoff_Queens','dropoff_Brooklyn',\n",
    " #                                       'dropoff_Manhattan','dropoff_Bronx','ptype_CCard','ptype_cash','ptype_nocharge',\n",
    "  #                                      'ptype_dispute','ptype_voidtrip','RateCode_stdrate','RateCode_JFK',\n",
    "   #                                     'RateCode_Newark','RateCode_NW','RateCode_Negotiated','RateCode_Group',\n",
    "    #                                    'Duration'\n",
    "=r1[0].toArray()\n",
    "x[18]\n",
    "\n",
    "\n"
   ]
  },
  {
   "cell_type": "code",
   "execution_count": 101,
   "metadata": {},
   "outputs": [
    {
     "name": "stdout",
     "output_type": "stream",
     "text": [
      "+----------+----+---+----+-------+--------+-------------------+-------------------+---------------+-------------+------------------+------------------+------------------+------------------+-----------------+-----------+-----+-------+----------+------------+---------------------+------------+----------+-------------------+-----------+--------------------+----------------+-------------------+-----------+------------+-------------+---------------+----------------+------------+--------------+----------------+-----------------+-------------+-----------+----------+--------------+-------------+--------------+----------------+------------+---------------+-----------+-------------------+--------------+--------+--------------------+--------------------+------------------+\n",
      "|avg_temp_C|Rain|Fog|Snow|Holiday|VendorID|    pickup_datetime|   dropoff_datetime|passenger_count|trip_distance|  pickup_longitude|   pickup_latitude|store_and_fwd_flag| dropoff_longitude| dropoff_latitude|fare_amount|extra|mta_tax|tip_amount|tolls_amount|improvement_surcharge|total_amount|pickup_zip|pickup_neighborhood|dropoff_zip|dropoff_neighborhood|pickup_dayofweek|pickup_weekday_name|pickup_hour|pickup_month|pickup_Queens|pickup_Brooklyn|pickup_Manhattan|pickup_Bronx|dropoff_Queens|dropoff_Brooklyn|dropoff_Manhattan|dropoff_Bronx|ptype_CCard|ptype_cash|ptype_nocharge|ptype_dispute|ptype_voidtrip|RateCode_stdrate|RateCode_JFK|RateCode_Newark|RateCode_NW|RateCode_Negotiated|RateCode_Group|Duration|            features|           features2|        prediction|\n",
      "+----------+----+---+----+-------+--------+-------------------+-------------------+---------------+-------------+------------------+------------------+------------------+------------------+-----------------+-----------+-----+-------+----------+------------+---------------------+------------+----------+-------------------+-----------+--------------------+----------------+-------------------+-----------+------------+-------------+---------------+----------------+------------+--------------+----------------+-----------------+-------------+-----------+----------+--------------+-------------+--------------+----------------+------------+---------------+-----------+-------------------+--------------+--------+--------------------+--------------------+------------------+\n",
      "|        12|   1|  0|   0|      0|       0|2015-12-27 00:57:54|2015-12-27 01:01:45|              1|          0.7|-73.99003601074219|40.745113372802734|                 0|-74.00057983398438|40.74788284301758|        4.5|  0.5|    0.5|      1.16|         0.0|                  0.3|        6.96|     10001|Chelsea and Clinton|      10001| Chelsea and Clinton|               6|             Sunday|          0|          12|            0|              0|               1|           0|             0|               0|                1|            0|          1|         0|             0|            0|             0|               1|           0|              0|          0|                  0|             0|     231|(44,[0,1,6,7,9,10...|(30,[0,1,2,3,5,6,...| 6.864060678278065|\n",
      "|        13|   1|  0|   0|      0|       1|2015-11-12 08:27:00|2015-11-12 08:38:12|              1|          1.3|-73.98117065429686| 40.77117156982422|                 0|-73.97321319580078|40.76028823852539|        8.5|  0.0|    0.5|       0.0|         0.0|                  0.3|         9.3|     10023|    Upper West Side|      10022|Gramercy Park and...|               3|           Thursday|          8|          11|            0|              0|               1|           0|             0|               0|                1|            0|          0|         1|             0|            0|             0|               1|           0|              0|          0|                  0|             0|     672|(44,[0,1,5,6,7,9,...|(30,[0,1,2,5,6,7,...| 9.678528168945235|\n",
      "|        16|   1|  0|   0|      0|       1|2015-10-01 23:51:37|2015-10-02 00:08:43|              1|          4.8|-73.98763275146483|40.718509674072266|                 0|-73.94757843017578|40.77932739257813|       16.5|  0.5|    0.5|      3.55|         0.0|                  0.3|       21.35|     10002|    Lower East Side|      10128|     Upper East Side|               3|           Thursday|         23|          10|            0|              0|               1|           0|             0|               0|                1|            0|          1|         0|             0|            0|             0|               1|           0|              0|          0|                  0|             0|    1026|(44,[0,1,5,6,7,9,...|(30,[0,1,2,3,5,6,...|22.025262612681928|\n",
      "+----------+----+---+----+-------+--------+-------------------+-------------------+---------------+-------------+------------------+------------------+------------------+------------------+-----------------+-----------+-----+-------+----------+------------+---------------------+------------+----------+-------------------+-----------+--------------------+----------------+-------------------+-----------+------------+-------------+---------------+----------------+------------+--------------+----------------+-----------------+-------------+-----------+----------+--------------+-------------+--------------+----------------+------------+---------------+-----------+-------------------+--------------+--------+--------------------+--------------------+------------------+\n",
      "only showing top 3 rows\n",
      "\n"
     ]
    }
   ],
   "source": [
    "pipeline_estimator = Pipeline(stages=[\n",
    "    feature.VectorAssembler(inputCols=[ 'trip_distance','pickup_longitude','dropoff_longitude',\n",
    "                                       'tip_amount','tolls_amount','pickup_zip','dropoff_zip',\n",
    "                                        'pickup_dayofweek', 'pickup_hour', 'pickup_month','pickup_Queens','pickup_Brooklyn',\n",
    "                                        'pickup_Manhattan','pickup_Bronx','dropoff_Queens','dropoff_Brooklyn',\n",
    "                                        'dropoff_Manhattan','dropoff_Bronx','ptype_CCard','ptype_cash','ptype_nocharge',\n",
    "                                        'ptype_dispute','ptype_voidtrip','RateCode_stdrate','RateCode_JFK',\n",
    "                                        'RateCode_Newark','RateCode_NW','RateCode_Negotiated','RateCode_Group',\n",
    "                                        'Duration'],\n",
    "                           outputCol='features2'),\n",
    "    regression.LinearRegression(featuresCol='features2', labelCol='total_amount')\n",
    "])\n",
    "pipe_model = pipeline_estimator.fit(features_sample_df)\n",
    "pipe_model.transform(features_sample_df).show(3)"
   ]
  },
  {
   "cell_type": "code",
   "execution_count": 102,
   "metadata": {},
   "outputs": [],
   "source": [
    "rmse1_df = pipe_model.transform(features_sample_df).select(fn.sqrt(fn.avg((fn.col('prediction')-fn.col('total_amount'))**2)).alias('rmse'))\n"
   ]
  },
  {
   "cell_type": "code",
   "execution_count": 103,
   "metadata": {},
   "outputs": [
    {
     "name": "stdout",
     "output_type": "stream",
     "text": [
      "+-----------------+\n",
      "|             rmse|\n",
      "+-----------------+\n",
      "|2.646745033119248|\n",
      "+-----------------+\n",
      "\n"
     ]
    }
   ],
   "source": [
    "rmse1_df.show()"
   ]
  },
  {
   "cell_type": "code",
   "execution_count": null,
   "metadata": {},
   "outputs": [],
   "source": []
  },
  {
   "cell_type": "code",
   "execution_count": null,
   "metadata": {},
   "outputs": [],
   "source": []
  },
  {
   "cell_type": "code",
   "execution_count": null,
   "metadata": {},
   "outputs": [],
   "source": []
  }
 ],
 "metadata": {
  "anaconda-cloud": {},
  "kernelspec": {
   "display_name": "Python 3",
   "language": "python",
   "name": "python3"
  },
  "language_info": {
   "codemirror_mode": {
    "name": "ipython",
    "version": 3
   },
   "file_extension": ".py",
   "mimetype": "text/x-python",
   "name": "python",
   "nbconvert_exporter": "python",
   "pygments_lexer": "ipython3",
   "version": "3.6.5"
  },
  "toc": {
   "base_numbering": 1,
   "nav_menu": {},
   "number_sections": true,
   "sideBar": true,
   "skip_h1_title": false,
   "title_cell": "Table of Contents",
   "title_sidebar": "Contents",
   "toc_cell": false,
   "toc_position": {},
   "toc_section_display": true,
   "toc_window_display": false
  },
  "varInspector": {
   "cols": {
    "lenName": 16,
    "lenType": 16,
    "lenVar": 40
   },
   "kernels_config": {
    "python": {
     "delete_cmd_postfix": "",
     "delete_cmd_prefix": "del ",
     "library": "var_list.py",
     "varRefreshCmd": "print(var_dic_list())"
    },
    "r": {
     "delete_cmd_postfix": ") ",
     "delete_cmd_prefix": "rm(",
     "library": "var_list.r",
     "varRefreshCmd": "cat(var_dic_list()) "
    }
   },
   "types_to_exclude": [
    "module",
    "function",
    "builtin_function_or_method",
    "instance",
    "_Feature"
   ],
   "window_display": false
  }
 },
 "nbformat": 4,
 "nbformat_minor": 2
}
